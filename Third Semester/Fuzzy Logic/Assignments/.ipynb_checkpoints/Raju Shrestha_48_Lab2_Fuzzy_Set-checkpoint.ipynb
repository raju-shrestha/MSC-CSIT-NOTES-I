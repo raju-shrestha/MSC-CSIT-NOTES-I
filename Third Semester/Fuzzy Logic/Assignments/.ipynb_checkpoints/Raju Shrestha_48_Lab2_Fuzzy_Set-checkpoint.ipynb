{
 "cells": [
  {
   "cell_type": "markdown",
   "id": "34745be5-b141-4f12-b4f5-48716baff91c",
   "metadata": {},
   "source": [
    "Implement fuzzy sets as discussed in the class. Your program should ask user to input the set elements and corresponding membership values.\n",
    "The program should accept the valid membership values only (0<=membership value<=1).\n",
    "For the set, use appropriate data structure to store fuzzy element with its corresponding membership value.\n",
    "Also write functions to implement Union, Intersection, Complement, Subset and Alpha Cut operations over the sets.\n",
    "The function corresponding to alpha cut should ask for the alpha value. "
   ]
  },
  {
   "cell_type": "code",
   "execution_count": null,
   "id": "3c889833-94ba-463a-b336-a22fb07b3aea",
   "metadata": {},
   "outputs": [
    {
     "name": "stdin",
     "output_type": "stream",
     "text": [
      "Enter number of elements for first set:  3\n",
      "Enter element:  a\n",
      "Enter membership value for a:  0.5\n",
      "Enter element:  b\n",
      "Enter membership value for b:  0.7\n",
      "Enter element:  c\n",
      "Enter membership value for c:  0.9\n",
      "Enter number of elements for second set:  3\n",
      "Enter element:  b\n",
      "Enter membership value for b:  0.6\n",
      "Enter element:  c\n",
      "Enter membership value for c:  0.8\n",
      "Enter element:  d\n",
      "Enter membership value for d:  0.9\n"
     ]
    },
    {
     "name": "stdout",
     "output_type": "stream",
     "text": [
      "**********************************************************************\n",
      "First Set: {'a': 0.5, 'b': 0.7, 'c': 0.9}\n",
      "Second Set: {'b': 0.6, 'c': 0.8, 'd': 0.9}\n",
      "Union of sets: {'d': 0.9, 'c': 0.9, 'b': 0.7, 'a': 0.5}\n",
      "Intersection of sets: {'c': 0.8, 'b': 0.6}\n",
      "Complement of first set: {'a': 0.5, 'b': 0.30000000000000004, 'c': 0.09999999999999998}\n",
      "Complement of second set: {'b': 0.4, 'c': 0.19999999999999996, 'd': 0.09999999999999998}\n",
      "First set is not a subset of second set\n"
     ]
    }
   ],
   "source": [
    "class FuzzySet:\n",
    "    def __init__(self):\n",
    "        self.elements = {}\n",
    "\n",
    "    def add_element(self, element, membership_value):\n",
    "        if 0 <= membership_value <= 1:\n",
    "            self.elements[element] = membership_value\n",
    "        else:\n",
    "            print(\"Invalid membership value. It should be between 0 and 1.\")\n",
    "\n",
    "    def union(self, other_set):\n",
    "        result = FuzzySet()\n",
    "        for element in set(self.elements).union(other_set.elements):\n",
    "            result.elements[element] = max(self.elements.get(element, 0), other_set.elements.get(element, 0))\n",
    "        return result\n",
    "\n",
    "    def intersection(self, other_set):\n",
    "        result = FuzzySet()\n",
    "        for element in set(self.elements).intersection(other_set.elements):\n",
    "            result.elements[element] = min(self.elements[element], other_set.elements[element])\n",
    "        return result\n",
    "\n",
    "    def complement(self):\n",
    "        result = FuzzySet()\n",
    "        for element, membership_value in self.elements.items():\n",
    "            result.elements[element] = 1 - membership_value\n",
    "        return result\n",
    "\n",
    "    def is_subset(self, other_set):\n",
    "        for element in self.elements:\n",
    "            if self.elements[element] > other_set.elements.get(element, 0):\n",
    "                return False\n",
    "        return True\n",
    "\n",
    "    def alpha_cut(self, alpha):\n",
    "        result = FuzzySet()\n",
    "        for element, membership_value in self.elements.items():\n",
    "            if membership_value >= alpha:\n",
    "                result.elements[element] = membership_value\n",
    "        return result\n",
    "\n",
    "    def __str__(self):\n",
    "        return str(self.elements)\n",
    "\n",
    "def main():\n",
    "    set1 = FuzzySet()\n",
    "    set2 = FuzzySet()\n",
    "\n",
    "    n1 = int(input(\"Enter number of elements for first set: \"))\n",
    "    for i in range(n1):\n",
    "        element = input(\"Enter element: \")\n",
    "        membership_value = float(input(f\"Enter membership value for {element} (between 0 and 1): \"))\n",
    "        set1.add_element(element, membership_value)\n",
    "\n",
    "    n2 = int(input(\"Enter number of elements for second set: \"))\n",
    "    for i in range(n2):\n",
    "        element = input(\"Enter element: \")\n",
    "        membership_value = float(input(f\"Enter membership value for {element} (between 0 and 1): \"))\n",
    "        set2.add_element(element, membership_value)\n",
    "        \n",
    "    print(\"**********************************************************************\")\n",
    "    print(\"First Set:\", set1)\n",
    "    print(\"Second Set:\", set2)\n",
    "    \n",
    "    # Perform and display set operation\n",
    "    print(\"Union of sets:\", set1.union(set2))\n",
    "    print(\"Intersection of sets:\", set1.intersection(set2))\n",
    "    print(\"Complement of first set:\", set1.complement())\n",
    "    print(\"Complement of second set:\", set2.complement())\n",
    "    \n",
    "    if set1.is_subset(set2):\n",
    "        print(\"First set is a subset of second set\")\n",
    "    else:\n",
    "        print(\"First set is not a subset of second set\")\n",
    "\n",
    "    alpha = float(input(\"Enter alpha value for alpha cut (between 0 and 1): \"))\n",
    "    print(\"Alpha cut of first set:\", set1.alpha_cut(alpha))\n",
    "\n",
    "if __name__ == \"__main__\":\n",
    "    main()\n"
   ]
  },
  {
   "cell_type": "code",
   "execution_count": null,
   "id": "ec2c2c5e-0237-4aa3-a124-f0dba3a1b4c1",
   "metadata": {},
   "outputs": [],
   "source": []
  }
 ],
 "metadata": {
  "kernelspec": {
   "display_name": "Python 3 (ipykernel)",
   "language": "python",
   "name": "python3"
  },
  "language_info": {
   "codemirror_mode": {
    "name": "ipython",
    "version": 3
   },
   "file_extension": ".py",
   "mimetype": "text/x-python",
   "name": "python",
   "nbconvert_exporter": "python",
   "pygments_lexer": "ipython3",
   "version": "3.11.7"
  }
 },
 "nbformat": 4,
 "nbformat_minor": 5
}
