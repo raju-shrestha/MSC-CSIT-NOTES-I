{
 "cells": [
  {
   "cell_type": "markdown",
   "id": "6404072c-3c21-45c3-ab41-a9740787c833",
   "metadata": {},
   "source": [
    "Implement Max-membership method and Mean-max membership method of defuzzifications.\n",
    "Your program should contain functions for both methods.\n",
    "The program should generate defuzzified value of the input fuzzy set for the above functions."
   ]
  },
  {
   "cell_type": "code",
   "execution_count": 7,
   "id": "dc1a4cff-d1d7-4ee3-b355-fc242ab411c8",
   "metadata": {},
   "outputs": [
    {
     "name": "stdout",
     "output_type": "stream",
     "text": [
      "Defuzzification using Max-membership and Mean-max Membership Methods\n"
     ]
    },
    {
     "name": "stdin",
     "output_type": "stream",
     "text": [
      "Enter the number of elements in the fuzzy set:  7\n",
      "Enter the element:  1\n",
      "Enter the membership value for element 1.0 (between 0 and 1):  0.1\n",
      "Enter the element:  2\n",
      "Enter the membership value for element 2.0 (between 0 and 1):  0.4\n",
      "Enter the element:  3\n",
      "Enter the membership value for element 3.0 (between 0 and 1):  0.7\n",
      "Enter the element:  4\n",
      "Enter the membership value for element 4.0 (between 0 and 1):  0.9\n",
      "Enter the element:  5\n",
      "Enter the membership value for element 5.0 (between 0 and 1):  0.9\n",
      "Enter the element:  6\n",
      "Enter the membership value for element 6.0 (between 0 and 1):  0.6\n",
      "Enter the element:  7\n",
      "Enter the membership value for element 7.0 (between 0 and 1):  0.8\n"
     ]
    },
    {
     "name": "stdout",
     "output_type": "stream",
     "text": [
      "**********************************************************************\n",
      "Defuzzified Results:\n",
      "Max-membership method defuzzified value: 4.0\n",
      "Mean-max membership method defuzzified value: 4.5\n"
     ]
    }
   ],
   "source": [
    "# Function to get the max-membership defuzzification value\n",
    "def max_membership_method(fuzzy_set):\n",
    "    max_membership = max(fuzzy_set.values())\n",
    "    for element, membership_value in fuzzy_set.items():\n",
    "        if membership_value == max_membership:\n",
    "            return element\n",
    "\n",
    "# Function to get the mean-max membership defuzzification value\n",
    "def mean_max_membership_method(fuzzy_set):\n",
    "    max_membership = max(fuzzy_set.values())\n",
    "    max_elements = [element for element, membership_value in fuzzy_set.items() if membership_value == max_membership]\n",
    "    return sum(max_elements) / len(max_elements)\n",
    "\n",
    "# Function to get a fuzzy set from user input\n",
    "def get_fuzzy_set():\n",
    "    fuzzy_set = {}\n",
    "    n = int(input(\"Enter the number of elements in the fuzzy set: \"))\n",
    "    for i in range(n):\n",
    "        element = float(input(\"Enter the element: \"))\n",
    "        membership_value = float(input(f\"Enter the membership value for element {element} (between 0 and 1): \"))\n",
    "        fuzzy_set[element] = membership_value\n",
    "    return fuzzy_set\n",
    "\n",
    "# Main function for defuzzification methods\n",
    "def main():\n",
    "    print(\"Defuzzification using Max-membership and Mean-max Membership Methods\")\n",
    "    fuzzy_set = get_fuzzy_set()\n",
    "\n",
    "    max_membership_value = max_membership_method(fuzzy_set)\n",
    "    mean_max_membership_value = mean_max_membership_method(fuzzy_set)\n",
    "    \n",
    "    print(\"**********************************************************************\")\n",
    "    print(\"Defuzzified Results:\")\n",
    "    print(f\"Max-membership method defuzzified value: {max_membership_value}\")\n",
    "    print(f\"Mean-max membership method defuzzified value: {mean_max_membership_value}\")\n",
    "\n",
    "if __name__ == \"__main__\":\n",
    "    main()\n"
   ]
  },
  {
   "cell_type": "code",
   "execution_count": null,
   "id": "5a3d356b-e863-49db-bfac-cf873415959f",
   "metadata": {},
   "outputs": [],
   "source": []
  }
 ],
 "metadata": {
  "kernelspec": {
   "display_name": "Python 3 (ipykernel)",
   "language": "python",
   "name": "python3"
  },
  "language_info": {
   "codemirror_mode": {
    "name": "ipython",
    "version": 3
   },
   "file_extension": ".py",
   "mimetype": "text/x-python",
   "name": "python",
   "nbconvert_exporter": "python",
   "pygments_lexer": "ipython3",
   "version": "3.11.7"
  }
 },
 "nbformat": 4,
 "nbformat_minor": 5
}
