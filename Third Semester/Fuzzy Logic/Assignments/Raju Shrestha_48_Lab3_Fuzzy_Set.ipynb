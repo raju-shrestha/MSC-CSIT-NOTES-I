{
 "cells": [
  {
   "cell_type": "markdown",
   "id": "e73dc236-1ecd-4962-b0ca-74a1ac69b4ca",
   "metadata": {},
   "source": [
    "Write a program to implement functions for computing height, core, boundary, support of given fuzzy set.\n",
    "Your functions should take fuzzy set as input and return above values."
   ]
  },
  {
   "cell_type": "code",
   "execution_count": 5,
   "id": "40bab38f-dce8-4092-a56d-ef6fef1bf0ff",
   "metadata": {},
   "outputs": [
    {
     "name": "stdin",
     "output_type": "stream",
     "text": [
      "Enter the number of elements in the fuzzy set:  6\n",
      "Enter element:  a\n",
      "Enter membership value for a:  0.0\n",
      "Enter element:  b\n",
      "Enter membership value for b:  0.3\n",
      "Enter element:  c\n",
      "Enter membership value for c:  0.5\n",
      "Enter element:  d\n",
      "Enter membership value for d:  0.7\n",
      "Enter element:  e\n",
      "Enter membership value for e:  0.9\n",
      "Enter element:  f\n",
      "Enter membership value for f:  1.0\n"
     ]
    },
    {
     "name": "stdout",
     "output_type": "stream",
     "text": [
      "***********************************************************************\n",
      "Fuzzy Set: {'a': 0.0, 'b': 0.3, 'c': 0.5, 'd': 0.7, 'e': 0.9, 'f': 1.0}\n",
      "Height: 1.0\n",
      "Core: ['f']\n",
      "Boundary: ['b', 'c', 'd', 'e']\n",
      "Support: ['b', 'c', 'd', 'e', 'f']\n"
     ]
    }
   ],
   "source": [
    "# Function to compute height of fuzzy set\n",
    "def height(fuzzy_set):\n",
    "    return max(fuzzy_set.values()) # return height of fuzzy set with max membership values\n",
    "\n",
    "# Function to compute core of fuzzy set\n",
    "def core(fuzzy_set):\n",
    "    return [element for element, membership in fuzzy_set.items() if membership == 1] # return list of elements with membership value = 1.\n",
    "\n",
    "def boundary(fuzzy_set):\n",
    "    return [element for element, membership in fuzzy_set.items() if 0 < membership < 1] # return a list of elements with membership value between 0 and 1.\n",
    "\n",
    "# Function to compute support of fuzzy set\n",
    "def support(fuzzy_set):\n",
    "     return [element for element, membership in fuzzy_set.items() if membership > 0] # return a list of elements with membership value greater than 0.\n",
    "\n",
    "# Input from user for fuzzy set\n",
    "def main():\n",
    "    fuzzy_set = {}\n",
    "    n = int(input(\"Enter the number of elements in the fuzzy set: \"))\n",
    "    \n",
    "    for i in range(n):\n",
    "        element = input(\"Enter element: \")\n",
    "        membership_value = float(input(f\"Enter membership value for {element}: \"))\n",
    "        fuzzy_set[element] = membership_value\n",
    "\n",
    "    print(\"***********************************************************************\")\n",
    "    print(\"Fuzzy Set:\", fuzzy_set)\n",
    "    print(\"Height:\", height(fuzzy_set))\n",
    "    print(\"Core:\", core(fuzzy_set))\n",
    "    print(\"Boundary:\", boundary(fuzzy_set))\n",
    "    print(\"Support:\", support(fuzzy_set))\n",
    "\n",
    "if __name__ == \"__main__\":\n",
    "    main()\n",
    "\n",
    "\n"
   ]
  },
  {
   "cell_type": "code",
   "execution_count": null,
   "id": "bb966658-f683-4022-afaa-593e39522d81",
   "metadata": {},
   "outputs": [],
   "source": []
  }
 ],
 "metadata": {
  "kernelspec": {
   "display_name": "Python 3 (ipykernel)",
   "language": "python",
   "name": "python3"
  },
  "language_info": {
   "codemirror_mode": {
    "name": "ipython",
    "version": 3
   },
   "file_extension": ".py",
   "mimetype": "text/x-python",
   "name": "python",
   "nbconvert_exporter": "python",
   "pygments_lexer": "ipython3",
   "version": "3.11.7"
  }
 },
 "nbformat": 4,
 "nbformat_minor": 5
}
