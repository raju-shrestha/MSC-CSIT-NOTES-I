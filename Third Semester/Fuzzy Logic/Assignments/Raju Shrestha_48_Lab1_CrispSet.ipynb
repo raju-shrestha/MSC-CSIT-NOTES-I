{
 "cells": [
  {
   "cell_type": "markdown",
   "id": "c7a970e7-3d7a-49ec-add7-e50a547cdf3c",
   "metadata": {},
   "source": [
    "Implement crisp sets as discussed in the class. Your program should ask user to input the set elements and corresponding membership values. The program should accept the valid membership values only.  For the set, use appropriate data structure to store fuzzy element with its corresponding membership value. Also write functions to implement Union, Intersection, Complement and Subset operations over the sets. "
   ]
  },
  {
   "cell_type": "code",
   "execution_count": 3,
   "id": "f1b86de8-c2f9-4081-800a-860a050f921e",
   "metadata": {},
   "outputs": [
    {
     "name": "stdout",
     "output_type": "stream",
     "text": [
      "Enter elements for set 1 :\n",
      "***********************************\n"
     ]
    },
    {
     "name": "stdin",
     "output_type": "stream",
     "text": [
      "Enter the number of elements in the set :  4\n",
      "Enter element:  a\n",
      "Enter membership value (0 or 1):  1\n",
      "Enter element:  b\n",
      "Enter membership value (0 or 1):  1\n",
      "Enter element:  c\n",
      "Enter membership value (0 or 1):  1\n",
      "Enter element:  d\n",
      "Enter membership value (0 or 1):  0\n"
     ]
    },
    {
     "name": "stdout",
     "output_type": "stream",
     "text": [
      "Enter elements for set 2 :\n",
      "*************************************\n"
     ]
    },
    {
     "name": "stdin",
     "output_type": "stream",
     "text": [
      "Enter the number of elements in the set :  4\n",
      "Enter element:  b\n",
      "Enter membership value (0 or 1):  1\n",
      "Enter element:  c\n",
      "Enter membership value (0 or 1):  1\n",
      "Enter element:  d\n",
      "Enter membership value (0 or 1):  0\n",
      "Enter element:  e\n",
      "Enter membership value (0 or 1):  1\n"
     ]
    },
    {
     "name": "stdout",
     "output_type": "stream",
     "text": [
      "****************************************\n",
      "Set 1: {'a': 1.0, 'b': 1.0, 'c': 1.0, 'd': 0.0}\n",
      "Set 2: {'b': 1.0, 'c': 1.0, 'd': 0.0, 'e': 1.0}\n",
      "Union of set 1 and set 2: {'a': 1.0, 'e': 1.0, 'c': 1.0, 'd': 0.0, 'b': 1.0}\n",
      "Intersection of set 1 and set 2: {'c': 1.0, 'b': 1.0, 'd': 0.0}\n",
      "Complement of Set 1: {'a': 0.0, 'b': 0.0, 'c': 0.0, 'd': 1.0}\n",
      "Complement of Set 2: {'b': 0.0, 'c': 0.0, 'd': 1.0, 'e': 0.0}\n",
      "Is Set 1 a subset of Set 2? No\n"
     ]
    }
   ],
   "source": [
    "class CrispSet:\n",
    "    def __init__(self):\n",
    "        self.set_elements = {}\n",
    "\n",
    "    def add_element(self, element, membership_value):\n",
    "        if membership_value in {0, 1}:\n",
    "            self.set_elements[element] = membership_value\n",
    "        else:\n",
    "            print(\"Membership value must be 0 or 1.\")\n",
    "\n",
    "    def union(self, other_set):\n",
    "        result = CrispSet()\n",
    "        for element in set(self.set_elements.keys()).union(other_set.set_elements.keys()):\n",
    "            result.set_elements[element] = max(self.set_elements.get(element, 0), other_set.set_elements.get(element, 0))\n",
    "        return result\n",
    "\n",
    "    def intersection(self, other_set):\n",
    "        result = CrispSet()\n",
    "        for element in set(self.set_elements.keys()).intersection(other_set.set_elements.keys()):\n",
    "            result.set_elements[element] = min(self.set_elements[element], other_set.set_elements[element])\n",
    "        return result\n",
    "\n",
    "    def complement(self):\n",
    "        result = CrispSet()\n",
    "        for element, membership_value in self.set_elements.items():\n",
    "            result.set_elements[element] = 1 - membership_value\n",
    "        return result\n",
    "\n",
    "    def is_subset(self, other_set):\n",
    "        for element, membership_value in self.set_elements.items():\n",
    "            if membership_value > other_set.set_elements.get(element, 0):\n",
    "                return False\n",
    "        return True\n",
    "\n",
    "    def __str__(self):\n",
    "        return str(self.set_elements)\n",
    "\n",
    "# Take input from user\n",
    "def get_set_input():\n",
    "    crisp_set = CrispSet()\n",
    "    n = int(input(\"Enter the number of elements in the set : \"))\n",
    "    for i in range(n):\n",
    "        element = input(\"Enter element: \")\n",
    "        membership_value = float(input(\"Enter membership value (0 or 1): \"))\n",
    "        crisp_set.add_element(element, membership_value)\n",
    "    return crisp_set\n",
    "\n",
    "# Example\n",
    "if __name__ == \"__main__\":\n",
    "    print(\"Enter elements for set 1 :\")\n",
    "    print(\"***********************************\")\n",
    "    set1 = get_set_input()\n",
    "\n",
    "    print(\"Enter elements for set 2 :\")\n",
    "    print(\"*************************************\")\n",
    "    set2 = get_set_input()\n",
    "\n",
    "    # Perform set operation\n",
    "    union_set = set1.union(set2)\n",
    "    intersection_set = set1.intersection(set2)\n",
    "    complement_set1 = set1.complement()\n",
    "    complement_set2 = set2.complement()\n",
    "    subset_result = set1.is_subset(set2)\n",
    "\n",
    "    # Display sets\n",
    "    print(\"****************************************\")\n",
    "    print(\"Set 1:\", set1)\n",
    "    print(\"Set 2:\", set2)\n",
    "    \n",
    "    # Display result of sets operation\n",
    "    print(\"Union of set 1 and set 2:\", union_set)\n",
    "    print(\"Intersection of set 1 and set 2:\", intersection_set)\n",
    "    print(\"Complement of Set 1:\", complement_set1)\n",
    "    print(\"Complement of Set 2:\", complement_set2)\n",
    "    print(f\"Is Set 1 a subset of Set 2? {'Yes' if subset_result else 'No'}\")\n"
   ]
  },
  {
   "cell_type": "code",
   "execution_count": null,
   "id": "b91c5537-9551-4da8-8b66-3cada1e23387",
   "metadata": {},
   "outputs": [],
   "source": []
  },
  {
   "cell_type": "code",
   "execution_count": null,
   "id": "c92b653a-fffd-4a90-8865-a02e966c07f1",
   "metadata": {},
   "outputs": [],
   "source": []
  },
  {
   "cell_type": "code",
   "execution_count": null,
   "id": "f79d309e-1d37-41d2-ae96-17f2ad32645c",
   "metadata": {},
   "outputs": [],
   "source": []
  }
 ],
 "metadata": {
  "kernelspec": {
   "display_name": "Python 3 (ipykernel)",
   "language": "python",
   "name": "python3"
  },
  "language_info": {
   "codemirror_mode": {
    "name": "ipython",
    "version": 3
   },
   "file_extension": ".py",
   "mimetype": "text/x-python",
   "name": "python",
   "nbconvert_exporter": "python",
   "pygments_lexer": "ipython3",
   "version": "3.11.7"
  }
 },
 "nbformat": 4,
 "nbformat_minor": 5
}
