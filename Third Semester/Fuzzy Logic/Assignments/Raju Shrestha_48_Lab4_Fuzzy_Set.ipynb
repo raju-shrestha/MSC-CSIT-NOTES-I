{
 "cells": [
  {
   "cell_type": "markdown",
   "id": "8a88e635-d5af-4d0b-8cfa-b229e10c3cd6",
   "metadata": {},
   "source": [
    "Implement fuzzy relations as discussed in the class. Your program should allow to create any two fuzzy sets.\n",
    "The program should generate fuzzy relation of the two sets. Also write functions to implement Alpha Cut of the relation.\n",
    "The function corresponding to alpha cut should ask for the alpha value."
   ]
  },
  {
   "cell_type": "code",
   "execution_count": 3,
   "id": "6930b317-b0a2-4a65-ba05-821adfea91b0",
   "metadata": {},
   "outputs": [
    {
     "name": "stdout",
     "output_type": "stream",
     "text": [
      "Create the first fuzzy set:\n"
     ]
    },
    {
     "name": "stdin",
     "output_type": "stream",
     "text": [
      "Enter the number of elements in the fuzzy set:  3\n",
      "Enter the element:  a\n",
      "Enter the membership value (between 0 and 1):  0.3\n",
      "Enter the element:  b\n",
      "Enter the membership value (between 0 and 1):  0.7\n",
      "Enter the element:  c\n",
      "Enter the membership value (between 0 and 1):  1.0\n"
     ]
    },
    {
     "name": "stdout",
     "output_type": "stream",
     "text": [
      "First Fuzzy Set: [('a', 0.3), ('b', 0.7), ('c', 1.0)]\n",
      "Create the second fuzzy set:\n"
     ]
    },
    {
     "name": "stdin",
     "output_type": "stream",
     "text": [
      "Enter the number of elements in the fuzzy set:  3\n",
      "Enter the element:  x\n",
      "Enter the membership value (between 0 and 1):  0.4\n",
      "Enter the element:  y\n",
      "Enter the membership value (between 0 and 1):  0.7\n",
      "Enter the element:  z\n",
      "Enter the membership value (between 0 and 1):  0.9\n"
     ]
    },
    {
     "name": "stdout",
     "output_type": "stream",
     "text": [
      "Second Fuzzy Set: [('x', 0.4), ('y', 0.7), ('z', 0.9)]\n",
      "Fuzzy Relation: {('a', 'x'): 0.3, ('a', 'y'): 0.3, ('a', 'z'): 0.3, ('b', 'x'): 0.4, ('b', 'y'): 0.7, ('b', 'z'): 0.7, ('c', 'x'): 0.4, ('c', 'y'): 0.7, ('c', 'z'): 0.9}\n"
     ]
    },
    {
     "name": "stdin",
     "output_type": "stream",
     "text": [
      "Enter the alpha value for alpha cut (between 0 and 1):  0.6\n"
     ]
    },
    {
     "name": "stdout",
     "output_type": "stream",
     "text": [
      "Alpha Cut Relation: {('b', 'y'): 0.7, ('b', 'z'): 0.7, ('c', 'y'): 0.7, ('c', 'z'): 0.9}\n"
     ]
    }
   ],
   "source": [
    "class FuzzySet:\n",
    "    def __init__(self, elements):\n",
    "        self.elements = elements\n",
    "    \n",
    "    # Return a string representation of the fuzzy set.\n",
    "    def __repr__(self):\n",
    "        return str(self.elements)\n",
    "\n",
    "class FuzzyRelation:\n",
    "    def __init__(self, set1, set2):\n",
    "        self.set1 = set1\n",
    "        self.set2 = set2\n",
    "        self.relation = self.generate_relation()\n",
    "        \n",
    "    # Function to generate fuzzy relation\n",
    "    def generate_relation(self):\n",
    "        relation = {}\n",
    "        for element1 in self.set1.elements:\n",
    "            for element2 in self.set2.elements:\n",
    "                 # Relation is minimum of the membership values of the elements\n",
    "                relation[(element1[0], element2[0])] = min(element1[1], element2[1])\n",
    "        return relation\n",
    "        \n",
    "    # Function to perform alpha cut\n",
    "    def alpha_cut(self, alpha):\n",
    "        alpha_cut_relation = {}\n",
    "        for key, value in self.relation.items():\n",
    "            if value >= alpha:  # Return only those pairs which relation value is greater than or equal to alpha.\n",
    "                alpha_cut_relation[key] = value\n",
    "        return alpha_cut_relation\n",
    "\n",
    "    # Return a string representation of the fuzzy relation.\n",
    "    def __repr__(self):\n",
    "        return str(self.relation)\n",
    "        \n",
    "# Function to create a fuzzy set\n",
    "def create_fuzzy_set():\n",
    "    n = int(input(\"Enter the number of elements in the fuzzy set: \"))\n",
    "    elements = []\n",
    "    for i in range(n):\n",
    "        element = input(\"Enter the element: \")\n",
    "        membership_value = float(input(\"Enter the membership value (between 0 and 1): \"))\n",
    "        elements.append((element, membership_value))\n",
    "    return FuzzySet(elements)\n",
    "    \n",
    "# Main function to create fuzzy sets, generate their relation, and perform an alpha cut.\n",
    "def main():\n",
    "    print(\"Create the first fuzzy set:\")\n",
    "    set1 = create_fuzzy_set()\n",
    "    print(\"First Fuzzy Set:\", set1)\n",
    "\n",
    "    print(\"Create the second fuzzy set:\")\n",
    "    set2 = create_fuzzy_set()\n",
    "    print(\"Second Fuzzy Set:\", set2)\n",
    "\n",
    "    relation = FuzzyRelation(set1, set2)\n",
    "    print(\"Fuzzy Relation:\", relation)\n",
    "\n",
    "    alpha = float(input(\"Enter the alpha value for alpha cut (between 0 and 1): \"))\n",
    "    alpha_cut_relation = relation.alpha_cut(alpha)\n",
    "    print(\"Alpha Cut Relation:\", alpha_cut_relation)\n",
    "\n",
    "if __name__ == \"__main__\":\n",
    "    main()\n"
   ]
  },
  {
   "cell_type": "code",
   "execution_count": null,
   "id": "e99c211f-80e3-4894-9112-a17108dc4f47",
   "metadata": {},
   "outputs": [],
   "source": []
  }
 ],
 "metadata": {
  "kernelspec": {
   "display_name": "Python 3 (ipykernel)",
   "language": "python",
   "name": "python3"
  },
  "language_info": {
   "codemirror_mode": {
    "name": "ipython",
    "version": 3
   },
   "file_extension": ".py",
   "mimetype": "text/x-python",
   "name": "python",
   "nbconvert_exporter": "python",
   "pygments_lexer": "ipython3",
   "version": "3.11.7"
  }
 },
 "nbformat": 4,
 "nbformat_minor": 5
}
